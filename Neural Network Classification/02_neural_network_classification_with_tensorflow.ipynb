{
  "nbformat": 4,
  "nbformat_minor": 0,
  "metadata": {
    "colab": {
      "provenance": [],
      "authorship_tag": "ABX9TyMImGHPTKT6B3YlJ7kGOf93",
      "include_colab_link": true
    },
    "kernelspec": {
      "name": "python3",
      "display_name": "Python 3"
    },
    "language_info": {
      "name": "python"
    }
  },
  "cells": [
    {
      "cell_type": "markdown",
      "metadata": {
        "id": "view-in-github",
        "colab_type": "text"
      },
      "source": [
        "<a href=\"https://colab.research.google.com/github/fabiodemo/Tensorflow-Developer-Certificate/blob/main/Neural%20Network%20Classification/02_neural_network_classification_with_tensorflow.ipynb\" target=\"_parent\"><img src=\"https://colab.research.google.com/assets/colab-badge.svg\" alt=\"Open In Colab\"/></a>"
      ]
    },
    {
      "cell_type": "markdown",
      "source": [
        "# Introduction to Neural Network Classification with TensorFlow\n",
        "\n",
        "In this notebook, we're going to learn how to write Neural Networks for classification problems.\n",
        "\n",
        "A classification is where you try to classify something as one thing or another.\n",
        "\n",
        "A few types of classification problems:\n",
        "- Binary classification;\n",
        "- Multiclass classification;\n",
        "- Multilabel classification."
      ],
      "metadata": {
        "id": "mUFKiYz_px2u"
      }
    },
    {
      "cell_type": "markdown",
      "source": [
        "## Creating data to view and fit"
      ],
      "metadata": {
        "id": "2kuv42k1qDc1"
      }
    },
    {
      "cell_type": "code",
      "source": [
        "from sklearn.datasets import make_circles\n",
        "\n",
        "# Make 1000 examples\n",
        "n_samples = 1000\n",
        "\n",
        "# Create circles\n",
        "X, y = make_circles(n_samples, \n",
        "                    noise=0.03,\n",
        "                    random_state=42)"
      ],
      "metadata": {
        "id": "wJLLSvddqCsg"
      },
      "execution_count": 23,
      "outputs": []
    },
    {
      "cell_type": "code",
      "source": [
        "# Check the features\n",
        "X"
      ],
      "metadata": {
        "colab": {
          "base_uri": "https://localhost:8080/"
        },
        "id": "xY0kxGBwqVZ7",
        "outputId": "5ee1feb1-a2a2-4128-df0b-ec599eeb1eec"
      },
      "execution_count": 24,
      "outputs": [
        {
          "output_type": "execute_result",
          "data": {
            "text/plain": [
              "array([[ 0.75424625,  0.23148074],\n",
              "       [-0.75615888,  0.15325888],\n",
              "       [-0.81539193,  0.17328203],\n",
              "       ...,\n",
              "       [-0.13690036, -0.81001183],\n",
              "       [ 0.67036156, -0.76750154],\n",
              "       [ 0.28105665,  0.96382443]])"
            ]
          },
          "metadata": {},
          "execution_count": 24
        }
      ]
    },
    {
      "cell_type": "code",
      "source": [
        "# Check the labels\n",
        "y[:10]"
      ],
      "metadata": {
        "colab": {
          "base_uri": "https://localhost:8080/"
        },
        "id": "djApxSc6q1C3",
        "outputId": "fc91c515-64ae-4f4e-a95c-4700a0ba189f"
      },
      "execution_count": 25,
      "outputs": [
        {
          "output_type": "execute_result",
          "data": {
            "text/plain": [
              "array([1, 1, 1, 1, 0, 1, 1, 1, 1, 0])"
            ]
          },
          "metadata": {},
          "execution_count": 25
        }
      ]
    },
    {
      "cell_type": "markdown",
      "source": [
        "Our data is a little hard to understand right now, let's visualize it!"
      ],
      "metadata": {
        "id": "AdCBXSKurNJ9"
      }
    },
    {
      "cell_type": "code",
      "source": [
        "import pandas as pd\n",
        "circles = pd.DataFrame({\"X0\": X[:, 0], \"X1\":X[:, 1], \"label\":y})\n",
        "circles"
      ],
      "metadata": {
        "colab": {
          "base_uri": "https://localhost:8080/",
          "height": 463
        },
        "id": "77sjKhoyq7OW",
        "outputId": "b12402e6-4b4b-4580-94a5-76d9c15b6608"
      },
      "execution_count": 26,
      "outputs": [
        {
          "output_type": "execute_result",
          "data": {
            "text/plain": [
              "           X0        X1  label\n",
              "0    0.754246  0.231481      1\n",
              "1   -0.756159  0.153259      1\n",
              "2   -0.815392  0.173282      1\n",
              "3   -0.393731  0.692883      1\n",
              "4    0.442208 -0.896723      0\n",
              "..        ...       ...    ...\n",
              "995  0.244054  0.944125      0\n",
              "996 -0.978655 -0.272373      0\n",
              "997 -0.136900 -0.810012      1\n",
              "998  0.670362 -0.767502      0\n",
              "999  0.281057  0.963824      0\n",
              "\n",
              "[1000 rows x 3 columns]"
            ],
            "text/html": [
              "\n",
              "  <div id=\"df-e8efc755-f3d4-41ae-a853-b3ebd1e9dda0\">\n",
              "    <div class=\"colab-df-container\">\n",
              "      <div>\n",
              "<style scoped>\n",
              "    .dataframe tbody tr th:only-of-type {\n",
              "        vertical-align: middle;\n",
              "    }\n",
              "\n",
              "    .dataframe tbody tr th {\n",
              "        vertical-align: top;\n",
              "    }\n",
              "\n",
              "    .dataframe thead th {\n",
              "        text-align: right;\n",
              "    }\n",
              "</style>\n",
              "<table border=\"1\" class=\"dataframe\">\n",
              "  <thead>\n",
              "    <tr style=\"text-align: right;\">\n",
              "      <th></th>\n",
              "      <th>X0</th>\n",
              "      <th>X1</th>\n",
              "      <th>label</th>\n",
              "    </tr>\n",
              "  </thead>\n",
              "  <tbody>\n",
              "    <tr>\n",
              "      <th>0</th>\n",
              "      <td>0.754246</td>\n",
              "      <td>0.231481</td>\n",
              "      <td>1</td>\n",
              "    </tr>\n",
              "    <tr>\n",
              "      <th>1</th>\n",
              "      <td>-0.756159</td>\n",
              "      <td>0.153259</td>\n",
              "      <td>1</td>\n",
              "    </tr>\n",
              "    <tr>\n",
              "      <th>2</th>\n",
              "      <td>-0.815392</td>\n",
              "      <td>0.173282</td>\n",
              "      <td>1</td>\n",
              "    </tr>\n",
              "    <tr>\n",
              "      <th>3</th>\n",
              "      <td>-0.393731</td>\n",
              "      <td>0.692883</td>\n",
              "      <td>1</td>\n",
              "    </tr>\n",
              "    <tr>\n",
              "      <th>4</th>\n",
              "      <td>0.442208</td>\n",
              "      <td>-0.896723</td>\n",
              "      <td>0</td>\n",
              "    </tr>\n",
              "    <tr>\n",
              "      <th>...</th>\n",
              "      <td>...</td>\n",
              "      <td>...</td>\n",
              "      <td>...</td>\n",
              "    </tr>\n",
              "    <tr>\n",
              "      <th>995</th>\n",
              "      <td>0.244054</td>\n",
              "      <td>0.944125</td>\n",
              "      <td>0</td>\n",
              "    </tr>\n",
              "    <tr>\n",
              "      <th>996</th>\n",
              "      <td>-0.978655</td>\n",
              "      <td>-0.272373</td>\n",
              "      <td>0</td>\n",
              "    </tr>\n",
              "    <tr>\n",
              "      <th>997</th>\n",
              "      <td>-0.136900</td>\n",
              "      <td>-0.810012</td>\n",
              "      <td>1</td>\n",
              "    </tr>\n",
              "    <tr>\n",
              "      <th>998</th>\n",
              "      <td>0.670362</td>\n",
              "      <td>-0.767502</td>\n",
              "      <td>0</td>\n",
              "    </tr>\n",
              "    <tr>\n",
              "      <th>999</th>\n",
              "      <td>0.281057</td>\n",
              "      <td>0.963824</td>\n",
              "      <td>0</td>\n",
              "    </tr>\n",
              "  </tbody>\n",
              "</table>\n",
              "<p>1000 rows × 3 columns</p>\n",
              "</div>\n",
              "      <button class=\"colab-df-convert\" onclick=\"convertToInteractive('df-e8efc755-f3d4-41ae-a853-b3ebd1e9dda0')\"\n",
              "              title=\"Convert this dataframe to an interactive table.\"\n",
              "              style=\"display:none;\">\n",
              "        \n",
              "  <svg xmlns=\"http://www.w3.org/2000/svg\" height=\"24px\"viewBox=\"0 0 24 24\"\n",
              "       width=\"24px\">\n",
              "    <path d=\"M0 0h24v24H0V0z\" fill=\"none\"/>\n",
              "    <path d=\"M18.56 5.44l.94 2.06.94-2.06 2.06-.94-2.06-.94-.94-2.06-.94 2.06-2.06.94zm-11 1L8.5 8.5l.94-2.06 2.06-.94-2.06-.94L8.5 2.5l-.94 2.06-2.06.94zm10 10l.94 2.06.94-2.06 2.06-.94-2.06-.94-.94-2.06-.94 2.06-2.06.94z\"/><path d=\"M17.41 7.96l-1.37-1.37c-.4-.4-.92-.59-1.43-.59-.52 0-1.04.2-1.43.59L10.3 9.45l-7.72 7.72c-.78.78-.78 2.05 0 2.83L4 21.41c.39.39.9.59 1.41.59.51 0 1.02-.2 1.41-.59l7.78-7.78 2.81-2.81c.8-.78.8-2.07 0-2.86zM5.41 20L4 18.59l7.72-7.72 1.47 1.35L5.41 20z\"/>\n",
              "  </svg>\n",
              "      </button>\n",
              "      \n",
              "  <style>\n",
              "    .colab-df-container {\n",
              "      display:flex;\n",
              "      flex-wrap:wrap;\n",
              "      gap: 12px;\n",
              "    }\n",
              "\n",
              "    .colab-df-convert {\n",
              "      background-color: #E8F0FE;\n",
              "      border: none;\n",
              "      border-radius: 50%;\n",
              "      cursor: pointer;\n",
              "      display: none;\n",
              "      fill: #1967D2;\n",
              "      height: 32px;\n",
              "      padding: 0 0 0 0;\n",
              "      width: 32px;\n",
              "    }\n",
              "\n",
              "    .colab-df-convert:hover {\n",
              "      background-color: #E2EBFA;\n",
              "      box-shadow: 0px 1px 2px rgba(60, 64, 67, 0.3), 0px 1px 3px 1px rgba(60, 64, 67, 0.15);\n",
              "      fill: #174EA6;\n",
              "    }\n",
              "\n",
              "    [theme=dark] .colab-df-convert {\n",
              "      background-color: #3B4455;\n",
              "      fill: #D2E3FC;\n",
              "    }\n",
              "\n",
              "    [theme=dark] .colab-df-convert:hover {\n",
              "      background-color: #434B5C;\n",
              "      box-shadow: 0px 1px 3px 1px rgba(0, 0, 0, 0.15);\n",
              "      filter: drop-shadow(0px 1px 2px rgba(0, 0, 0, 0.3));\n",
              "      fill: #FFFFFF;\n",
              "    }\n",
              "  </style>\n",
              "\n",
              "      <script>\n",
              "        const buttonEl =\n",
              "          document.querySelector('#df-e8efc755-f3d4-41ae-a853-b3ebd1e9dda0 button.colab-df-convert');\n",
              "        buttonEl.style.display =\n",
              "          google.colab.kernel.accessAllowed ? 'block' : 'none';\n",
              "\n",
              "        async function convertToInteractive(key) {\n",
              "          const element = document.querySelector('#df-e8efc755-f3d4-41ae-a853-b3ebd1e9dda0');\n",
              "          const dataTable =\n",
              "            await google.colab.kernel.invokeFunction('convertToInteractive',\n",
              "                                                     [key], {});\n",
              "          if (!dataTable) return;\n",
              "\n",
              "          const docLinkHtml = 'Like what you see? Visit the ' +\n",
              "            '<a target=\"_blank\" href=https://colab.research.google.com/notebooks/data_table.ipynb>data table notebook</a>'\n",
              "            + ' to learn more about interactive tables.';\n",
              "          element.innerHTML = '';\n",
              "          dataTable['output_type'] = 'display_data';\n",
              "          await google.colab.output.renderOutput(dataTable, element);\n",
              "          const docLink = document.createElement('div');\n",
              "          docLink.innerHTML = docLinkHtml;\n",
              "          element.appendChild(docLink);\n",
              "        }\n",
              "      </script>\n",
              "    </div>\n",
              "  </div>\n",
              "  "
            ]
          },
          "metadata": {},
          "execution_count": 26
        }
      ]
    },
    {
      "cell_type": "code",
      "source": [
        "# Visualize with a plot\n",
        "import matplotlib.pyplot as plt\n",
        "plt.scatter(X[:, 0], X[:, 1], c=y, cmap=plt.cm.RdYlBu)"
      ],
      "metadata": {
        "colab": {
          "base_uri": "https://localhost:8080/",
          "height": 450
        },
        "id": "KhoHRlTzrkuh",
        "outputId": "e4934154-0216-46c0-96aa-a76f30955f7e"
      },
      "execution_count": 27,
      "outputs": [
        {
          "output_type": "execute_result",
          "data": {
            "text/plain": [
              "<matplotlib.collections.PathCollection at 0x7f27156affd0>"
            ]
          },
          "metadata": {},
          "execution_count": 27
        },
        {
          "output_type": "display_data",
          "data": {
            "text/plain": [
              "<Figure size 640x480 with 1 Axes>"
            ],
            "image/png": "[encoded data removed]"
          },
          "metadata": {}
        }
      ]
    },
    {
      "cell_type": "markdown",
      "source": [
        "## Input and output shapes"
      ],
      "metadata": {
        "id": "AhZNycBp8dog"
      }
    },
    {
      "cell_type": "code",
      "source": [
        "X.shape, y.shape"
      ],
      "metadata": {
        "id": "8e0nbUbnsH_E",
        "colab": {
          "base_uri": "https://localhost:8080/"
        },
        "outputId": "6a3710a3-79e4-4ed8-b7b8-a63c8f244473"
      },
      "execution_count": 28,
      "outputs": [
        {
          "output_type": "execute_result",
          "data": {
            "text/plain": [
              "((1000, 2), (1000,))"
            ]
          },
          "metadata": {},
          "execution_count": 28
        }
      ]
    },
    {
      "cell_type": "code",
      "source": [
        "# Check how many samples we're working\n",
        "len(X), len(y)"
      ],
      "metadata": {
        "colab": {
          "base_uri": "https://localhost:8080/"
        },
        "id": "wHx6iIek8iCB",
        "outputId": "d0c05c81-47c5-4d5c-cbc2-917847b7b1ad"
      },
      "execution_count": 29,
      "outputs": [
        {
          "output_type": "execute_result",
          "data": {
            "text/plain": [
              "(1000, 1000)"
            ]
          },
          "metadata": {},
          "execution_count": 29
        }
      ]
    },
    {
      "cell_type": "code",
      "source": [
        "# View the first example of features and labels\n",
        "X[0], y[0]\n",
        "X[25], y[25]"
      ],
      "metadata": {
        "colab": {
          "base_uri": "https://localhost:8080/"
        },
        "id": "AxiYpk3v8mkv",
        "outputId": "fc73a0a7-3f7c-47aa-847a-6c187ffc6f85"
      },
      "execution_count": 30,
      "outputs": [
        {
          "output_type": "execute_result",
          "data": {
            "text/plain": [
              "(array([-0.93699411,  0.19944235]), 0)"
            ]
          },
          "metadata": {},
          "execution_count": 30
        }
      ]
    },
    {
      "cell_type": "markdown",
      "source": [
        "## Steps in modelling\n",
        "The steps in moddeling with TensorFlow are tipically:\n",
        "1. Create a model\n",
        "2. Compile the model\n",
        "3. Fit the model\n",
        "4. Evaluate the model\n",
        "5. Tweak the model\n"
      ],
      "metadata": {
        "id": "FyVVuLC59HwK"
      }
    },
    {
      "cell_type": "code",
      "source": [
        "import tensorflow as tf"
      ],
      "metadata": {
        "id": "sL_bOprORhdk"
      },
      "execution_count": 31,
      "outputs": []
    },
    {
      "cell_type": "code",
      "source": [
        "# 1. Create a model\n",
        "model_1 = tf.keras.Sequential([\n",
        "    tf.keras.layers.Dense(1)\n",
        "])\n",
        "\n",
        "# 2. Compile the model\n",
        "model_1.compile(loss=tf.keras.losses.BinaryCrossentropy(),\n",
        "              optimizer=tf.keras.optimizers.SGD(),\n",
        "              metrics=[\"accuracy\"])\n",
        "\n",
        "# 3. Fit the model\n",
        "model_1.fit(X, y, epochs=5)"
      ],
      "metadata": {
        "id": "zYQ4fcpz9HdB",
        "colab": {
          "base_uri": "https://localhost:8080/"
        },
        "outputId": "81a32b11-8165-44d3-e733-0ae2c4e29ab3"
      },
      "execution_count": 32,
      "outputs": [
        {
          "output_type": "stream",
          "name": "stdout",
          "text": [
            "Epoch 1/5\n",
            "32/32 [==============================] - 1s 2ms/step - loss: 6.0534 - accuracy: 0.4890\n",
            "Epoch 2/5\n",
            "32/32 [==============================] - 0s 2ms/step - loss: 5.4258 - accuracy: 0.4960\n",
            "Epoch 3/5\n",
            "32/32 [==============================] - 0s 2ms/step - loss: 4.0887 - accuracy: 0.5200\n",
            "Epoch 4/5\n",
            "32/32 [==============================] - 0s 2ms/step - loss: 3.7313 - accuracy: 0.5130\n",
            "Epoch 5/5\n",
            "32/32 [==============================] - 0s 4ms/step - loss: 2.1912 - accuracy: 0.5180\n"
          ]
        },
        {
          "output_type": "execute_result",
          "data": {
            "text/plain": [
              "<keras.callbacks.History at 0x7f2715672a30>"
            ]
          },
          "metadata": {},
          "execution_count": 32
        }
      ]
    },
    {
      "cell_type": "code",
      "source": [
        "model_1.summary()"
      ],
      "metadata": {
        "colab": {
          "base_uri": "https://localhost:8080/"
        },
        "id": "KJHNguISTYaU",
        "outputId": "6a492831-28cc-4783-86c7-41e9bf8be73b"
      },
      "execution_count": 33,
      "outputs": [
        {
          "output_type": "stream",
          "name": "stdout",
          "text": [
            "Model: \"sequential_7\"\n",
            "_________________________________________________________________\n",
            " Layer (type)                Output Shape              Param #   \n",
            "=================================================================\n",
            " dense_14 (Dense)            (None, 1)                 3         \n",
            "                                                                 \n",
            "=================================================================\n",
            "Total params: 3\n",
            "Trainable params: 3\n",
            "Non-trainable params: 0\n",
            "_________________________________________________________________\n"
          ]
        }
      ]
    },
    {
      "cell_type": "code",
      "source": [
        "# Trying to improve the model by training it for longer\n",
        "model_1.fit(X, y, epochs=100, verbose=0)\n",
        "model_1.evaluate(X,y)\n",
        "# This approach is wrong, since we're evaluating the same trained data. We should create a training dataset\n",
        "# But we're working in a \"toy problem\", so it's okay in this case"
      ],
      "metadata": {
        "colab": {
          "base_uri": "https://localhost:8080/"
        },
        "id": "X9xWm1MXUSic",
        "outputId": "1f30c033-106c-42f7-e79b-484139fed105"
      },
      "execution_count": 34,
      "outputs": [
        {
          "output_type": "stream",
          "name": "stdout",
          "text": [
            "32/32 [==============================] - 0s 6ms/step - loss: 0.6932 - accuracy: 0.5000\n"
          ]
        },
        {
          "output_type": "execute_result",
          "data": {
            "text/plain": [
              "[0.693244993686676, 0.5]"
            ]
          },
          "metadata": {},
          "execution_count": 34
        }
      ]
    },
    {
      "cell_type": "markdown",
      "source": [
        "Since we're working on a binary classification problem and our model is getting around ~50% accuracy, it's performing as if it's guessing.\n",
        "\n",
        "So let's add an extra layer"
      ],
      "metadata": {
        "id": "0k_7GY0xUkO0"
      }
    },
    {
      "cell_type": "code",
      "source": [
        "tf.random.set_seed(42)\n",
        "\n",
        "# 1. Create a model\n",
        "model_2 = tf.keras.Sequential([\n",
        "    tf.keras.layers.Dense(1),\n",
        "    tf.keras.layers.Dense(1)\n",
        "])\n",
        "\n",
        "# 2. Compile the model\n",
        "model_2.compile(loss=tf.keras.losses.BinaryCrossentropy(),\n",
        "              optimizer=tf.keras.optimizers.SGD(),\n",
        "              metrics=[\"accuracy\"])\n",
        "\n",
        "# 3. Fit the model\n",
        "model_2.fit(X, y, epochs=100)"
      ],
      "metadata": {
        "colab": {
          "base_uri": "https://localhost:8080/"
        },
        "id": "b8JgjX8kUWKV",
        "outputId": "60859719-1e4f-4727-9db9-0dc3f74fa837"
      },
      "execution_count": 35,
      "outputs": [
        {
          "output_type": "stream",
          "name": "stdout",
          "text": [
            "Epoch 1/100\n",
            "32/32 [==============================] - 1s 5ms/step - loss: 2.0831 - accuracy: 0.4720\n",
            "Epoch 2/100\n",
            "32/32 [==============================] - 0s 6ms/step - loss: 0.7672 - accuracy: 0.4980\n",
            "Epoch 3/100\n",
            "32/32 [==============================] - 0s 4ms/step - loss: 0.7322 - accuracy: 0.4920\n",
            "Epoch 4/100\n",
            "32/32 [==============================] - 0s 3ms/step - loss: 0.7176 - accuracy: 0.5000\n",
            "Epoch 5/100\n",
            "32/32 [==============================] - 0s 5ms/step - loss: 0.7107 - accuracy: 0.4940\n",
            "Epoch 6/100\n",
            "32/32 [==============================] - 0s 6ms/step - loss: 0.7055 - accuracy: 0.4970\n",
            "Epoch 7/100\n",
            "32/32 [==============================] - 0s 5ms/step - loss: 0.7034 - accuracy: 0.5030\n",
            "Epoch 8/100\n",
            "32/32 [==============================] - 0s 6ms/step - loss: 0.7015 - accuracy: 0.4910\n",
            "Epoch 9/100\n",
            "32/32 [==============================] - 0s 3ms/step - loss: 0.6999 - accuracy: 0.5040\n",
            "Epoch 10/100\n",
            "32/32 [==============================] - 0s 5ms/step - loss: 0.6985 - accuracy: 0.4920\n",
            "Epoch 11/100\n",
            "32/32 [==============================] - 0s 8ms/step - loss: 0.6983 - accuracy: 0.4950\n",
            "Epoch 12/100\n",
            "32/32 [==============================] - 0s 3ms/step - loss: 0.6978 - accuracy: 0.5000\n",
            "Epoch 13/100\n",
            "32/32 [==============================] - 0s 4ms/step - loss: 0.6968 - accuracy: 0.4960\n",
            "Epoch 14/100\n",
            "32/32 [==============================] - 0s 3ms/step - loss: 0.6967 - accuracy: 0.5010\n",
            "Epoch 15/100\n",
            "32/32 [==============================] - 0s 4ms/step - loss: 0.6958 - accuracy: 0.5050\n",
            "Epoch 16/100\n",
            "32/32 [==============================] - 0s 4ms/step - loss: 0.6960 - accuracy: 0.4980\n",
            "Epoch 17/100\n",
            "32/32 [==============================] - 0s 4ms/step - loss: 0.6953 - accuracy: 0.5030\n",
            "Epoch 18/100\n",
            "32/32 [==============================] - 0s 4ms/step - loss: 0.6952 - accuracy: 0.4910\n",
            "Epoch 19/100\n",
            "32/32 [==============================] - 0s 3ms/step - loss: 0.6950 - accuracy: 0.5090\n",
            "Epoch 20/100\n",
            "32/32 [==============================] - 0s 3ms/step - loss: 0.6949 - accuracy: 0.4960\n",
            "Epoch 21/100\n",
            "32/32 [==============================] - 0s 8ms/step - loss: 0.6945 - accuracy: 0.5050\n",
            "Epoch 22/100\n",
            "32/32 [==============================] - 0s 4ms/step - loss: 0.6948 - accuracy: 0.4900\n",
            "Epoch 23/100\n",
            "32/32 [==============================] - 0s 5ms/step - loss: 0.6945 - accuracy: 0.5100\n",
            "Epoch 24/100\n",
            "32/32 [==============================] - 0s 4ms/step - loss: 0.6946 - accuracy: 0.4700\n",
            "Epoch 25/100\n",
            "32/32 [==============================] - 0s 3ms/step - loss: 0.6942 - accuracy: 0.5000\n",
            "Epoch 26/100\n",
            "32/32 [==============================] - 0s 4ms/step - loss: 0.6944 - accuracy: 0.4940\n",
            "Epoch 27/100\n",
            "32/32 [==============================] - 0s 6ms/step - loss: 0.6937 - accuracy: 0.5280\n",
            "Epoch 28/100\n",
            "32/32 [==============================] - 0s 5ms/step - loss: 0.6944 - accuracy: 0.4780\n",
            "Epoch 29/100\n",
            "32/32 [==============================] - 0s 3ms/step - loss: 0.6941 - accuracy: 0.4780\n",
            "Epoch 30/100\n",
            "32/32 [==============================] - 0s 5ms/step - loss: 0.6939 - accuracy: 0.4890\n",
            "Epoch 31/100\n",
            "32/32 [==============================] - 0s 5ms/step - loss: 0.6940 - accuracy: 0.5320\n",
            "Epoch 32/100\n",
            "32/32 [==============================] - 0s 4ms/step - loss: 0.6940 - accuracy: 0.4730\n",
            "Epoch 33/100\n",
            "32/32 [==============================] - 0s 3ms/step - loss: 0.6940 - accuracy: 0.4870\n",
            "Epoch 34/100\n",
            "32/32 [==============================] - 0s 6ms/step - loss: 0.6944 - accuracy: 0.4860\n",
            "Epoch 35/100\n",
            "32/32 [==============================] - 0s 7ms/step - loss: 0.6939 - accuracy: 0.5000\n",
            "Epoch 36/100\n",
            "32/32 [==============================] - 0s 5ms/step - loss: 0.6943 - accuracy: 0.4800\n",
            "Epoch 37/100\n",
            "32/32 [==============================] - 0s 6ms/step - loss: 0.6938 - accuracy: 0.5210\n",
            "Epoch 38/100\n",
            "32/32 [==============================] - 0s 4ms/step - loss: 0.6939 - accuracy: 0.4770\n",
            "Epoch 39/100\n",
            "32/32 [==============================] - 0s 6ms/step - loss: 0.6937 - accuracy: 0.5010\n",
            "Epoch 40/100\n",
            "32/32 [==============================] - 0s 7ms/step - loss: 0.6946 - accuracy: 0.4810\n",
            "Epoch 41/100\n",
            "32/32 [==============================] - 0s 8ms/step - loss: 0.6938 - accuracy: 0.5010\n",
            "Epoch 42/100\n",
            "32/32 [==============================] - 0s 10ms/step - loss: 0.6939 - accuracy: 0.4750\n",
            "Epoch 43/100\n",
            "32/32 [==============================] - 0s 10ms/step - loss: 0.6939 - accuracy: 0.5080\n",
            "Epoch 44/100\n",
            "32/32 [==============================] - 0s 8ms/step - loss: 0.6932 - accuracy: 0.5140\n",
            "Epoch 45/100\n",
            "32/32 [==============================] - 0s 8ms/step - loss: 0.6942 - accuracy: 0.4820\n",
            "Epoch 46/100\n",
            "32/32 [==============================] - 0s 7ms/step - loss: 0.6939 - accuracy: 0.5110\n",
            "Epoch 47/100\n",
            "32/32 [==============================] - 0s 10ms/step - loss: 0.6935 - accuracy: 0.5070\n",
            "Epoch 48/100\n",
            "32/32 [==============================] - 0s 9ms/step - loss: 0.6937 - accuracy: 0.4810\n",
            "Epoch 49/100\n",
            "32/32 [==============================] - 0s 8ms/step - loss: 0.6938 - accuracy: 0.4760\n",
            "Epoch 50/100\n",
            "32/32 [==============================] - 0s 8ms/step - loss: 0.6938 - accuracy: 0.5000\n",
            "Epoch 51/100\n",
            "32/32 [==============================] - 0s 6ms/step - loss: 0.6938 - accuracy: 0.4780\n",
            "Epoch 52/100\n",
            "32/32 [==============================] - 0s 4ms/step - loss: 0.6937 - accuracy: 0.4950\n",
            "Epoch 53/100\n",
            "32/32 [==============================] - 0s 3ms/step - loss: 0.6937 - accuracy: 0.4630\n",
            "Epoch 54/100\n",
            "32/32 [==============================] - 0s 3ms/step - loss: 0.6939 - accuracy: 0.5010\n",
            "Epoch 55/100\n",
            "32/32 [==============================] - 0s 3ms/step - loss: 0.6939 - accuracy: 0.5120\n",
            "Epoch 56/100\n",
            "32/32 [==============================] - 0s 6ms/step - loss: 0.6938 - accuracy: 0.4880\n",
            "Epoch 57/100\n",
            "32/32 [==============================] - 0s 7ms/step - loss: 0.6940 - accuracy: 0.4820\n",
            "Epoch 58/100\n",
            "32/32 [==============================] - 0s 7ms/step - loss: 0.6939 - accuracy: 0.5000\n",
            "Epoch 59/100\n",
            "32/32 [==============================] - 0s 6ms/step - loss: 0.6934 - accuracy: 0.5080\n",
            "Epoch 60/100\n",
            "32/32 [==============================] - 0s 7ms/step - loss: 0.6938 - accuracy: 0.5130\n",
            "Epoch 61/100\n",
            "32/32 [==============================] - 0s 3ms/step - loss: 0.6941 - accuracy: 0.4950\n",
            "Epoch 62/100\n",
            "32/32 [==============================] - 0s 3ms/step - loss: 0.6937 - accuracy: 0.4950\n",
            "Epoch 63/100\n",
            "32/32 [==============================] - 0s 3ms/step - loss: 0.6939 - accuracy: 0.4570\n",
            "Epoch 64/100\n",
            "32/32 [==============================] - 0s 4ms/step - loss: 0.6939 - accuracy: 0.4800\n",
            "Epoch 65/100\n",
            "32/32 [==============================] - 0s 3ms/step - loss: 0.6939 - accuracy: 0.4970\n",
            "Epoch 66/100\n",
            "32/32 [==============================] - 0s 3ms/step - loss: 0.6938 - accuracy: 0.4690\n",
            "Epoch 67/100\n",
            "32/32 [==============================] - 0s 3ms/step - loss: 0.6943 - accuracy: 0.4870\n",
            "Epoch 68/100\n",
            "32/32 [==============================] - 0s 3ms/step - loss: 0.6935 - accuracy: 0.4700\n",
            "Epoch 69/100\n",
            "32/32 [==============================] - 0s 3ms/step - loss: 0.6939 - accuracy: 0.4980\n",
            "Epoch 70/100\n",
            "32/32 [==============================] - 0s 3ms/step - loss: 0.6939 - accuracy: 0.4790\n",
            "Epoch 71/100\n",
            "32/32 [==============================] - 0s 3ms/step - loss: 0.6935 - accuracy: 0.4910\n",
            "Epoch 72/100\n",
            "32/32 [==============================] - 0s 3ms/step - loss: 0.6939 - accuracy: 0.4820\n",
            "Epoch 73/100\n",
            "32/32 [==============================] - 0s 4ms/step - loss: 0.6937 - accuracy: 0.4880\n",
            "Epoch 74/100\n",
            "32/32 [==============================] - 0s 3ms/step - loss: 0.6937 - accuracy: 0.4900\n",
            "Epoch 75/100\n",
            "32/32 [==============================] - 0s 3ms/step - loss: 0.6937 - accuracy: 0.4870\n",
            "Epoch 76/100\n",
            "32/32 [==============================] - 0s 3ms/step - loss: 0.6937 - accuracy: 0.5050\n",
            "Epoch 77/100\n",
            "32/32 [==============================] - 0s 5ms/step - loss: 0.6940 - accuracy: 0.4840\n",
            "Epoch 78/100\n",
            "32/32 [==============================] - 0s 5ms/step - loss: 0.6937 - accuracy: 0.4930\n",
            "Epoch 79/100\n",
            "32/32 [==============================] - 0s 3ms/step - loss: 0.6936 - accuracy: 0.5070\n",
            "Epoch 80/100\n",
            "32/32 [==============================] - 0s 3ms/step - loss: 0.6940 - accuracy: 0.5030\n",
            "Epoch 81/100\n",
            "32/32 [==============================] - 0s 3ms/step - loss: 0.6940 - accuracy: 0.4800\n",
            "Epoch 82/100\n",
            "32/32 [==============================] - 0s 4ms/step - loss: 0.6936 - accuracy: 0.4980\n",
            "Epoch 83/100\n",
            "32/32 [==============================] - 0s 3ms/step - loss: 0.6938 - accuracy: 0.5000\n",
            "Epoch 84/100\n",
            "32/32 [==============================] - 0s 3ms/step - loss: 0.6940 - accuracy: 0.5020\n",
            "Epoch 85/100\n",
            "32/32 [==============================] - 0s 3ms/step - loss: 0.6936 - accuracy: 0.4900\n",
            "Epoch 86/100\n",
            "32/32 [==============================] - 0s 3ms/step - loss: 0.6936 - accuracy: 0.4950\n",
            "Epoch 87/100\n",
            "32/32 [==============================] - 0s 3ms/step - loss: 0.6939 - accuracy: 0.4790\n",
            "Epoch 88/100\n",
            "32/32 [==============================] - 0s 3ms/step - loss: 0.6940 - accuracy: 0.4840\n",
            "Epoch 89/100\n",
            "32/32 [==============================] - 0s 3ms/step - loss: 0.6942 - accuracy: 0.4950\n",
            "Epoch 90/100\n",
            "32/32 [==============================] - 0s 3ms/step - loss: 0.6938 - accuracy: 0.5040\n",
            "Epoch 91/100\n",
            "32/32 [==============================] - 0s 6ms/step - loss: 0.6940 - accuracy: 0.4950\n",
            "Epoch 92/100\n",
            "32/32 [==============================] - 0s 3ms/step - loss: 0.6939 - accuracy: 0.4880\n",
            "Epoch 93/100\n",
            "32/32 [==============================] - 0s 4ms/step - loss: 0.6937 - accuracy: 0.5020\n",
            "Epoch 94/100\n",
            "32/32 [==============================] - 0s 6ms/step - loss: 0.6943 - accuracy: 0.4760\n",
            "Epoch 95/100\n",
            "32/32 [==============================] - 0s 3ms/step - loss: 0.6936 - accuracy: 0.4910\n",
            "Epoch 96/100\n",
            "32/32 [==============================] - 0s 3ms/step - loss: 0.6941 - accuracy: 0.4690\n",
            "Epoch 97/100\n",
            "32/32 [==============================] - 0s 3ms/step - loss: 0.6938 - accuracy: 0.4980\n",
            "Epoch 98/100\n",
            "32/32 [==============================] - 0s 4ms/step - loss: 0.6937 - accuracy: 0.4930\n",
            "Epoch 99/100\n",
            "32/32 [==============================] - 0s 5ms/step - loss: 0.6942 - accuracy: 0.4970\n",
            "Epoch 100/100\n",
            "32/32 [==============================] - 0s 7ms/step - loss: 0.6940 - accuracy: 0.4680\n"
          ]
        },
        {
          "output_type": "execute_result",
          "data": {
            "text/plain": [
              "<keras.callbacks.History at 0x7f27154c15b0>"
            ]
          },
          "metadata": {},
          "execution_count": 35
        }
      ]
    },
    {
      "cell_type": "code",
      "source": [
        "# 4. Evaluate the model\n",
        "model_2.evaluate(X, y)"
      ],
      "metadata": {
        "colab": {
          "base_uri": "https://localhost:8080/"
        },
        "id": "DBGxuTRHVPx3",
        "outputId": "50f5073c-b203-447a-d53e-4390092a99c8"
      },
      "execution_count": 36,
      "outputs": [
        {
          "output_type": "stream",
          "name": "stdout",
          "text": [
            "32/32 [==============================] - 0s 3ms/step - loss: 0.6933 - accuracy: 0.5000\n"
          ]
        },
        {
          "output_type": "execute_result",
          "data": {
            "text/plain": [
              "[0.6933049559593201, 0.5]"
            ]
          },
          "metadata": {},
          "execution_count": 36
        }
      ]
    },
    {
      "cell_type": "code",
      "source": [
        "circles.label.value_counts()"
      ],
      "metadata": {
        "colab": {
          "base_uri": "https://localhost:8080/"
        },
        "id": "pAJ_0yZIHA_v",
        "outputId": "7015d024-bd32-471e-95b0-9fff537f7cf2"
      },
      "execution_count": 37,
      "outputs": [
        {
          "output_type": "execute_result",
          "data": {
            "text/plain": [
              "1    500\n",
              "0    500\n",
              "Name: label, dtype: int64"
            ]
          },
          "metadata": {},
          "execution_count": 37
        }
      ]
    },
    {
      "cell_type": "markdown",
      "source": [
        "## Improving our model\n",
        "\n",
        "Possible steps to improve the model:\n",
        "1. Create a model - we might to add more layers or increase the number of hidden units within a layer;\n",
        "2. Compiling a model - We might to choose a different a different optimization function (such as Adam instead of SGD);\n",
        "3. Fitting a model - Perhaps we might fit our model for more epochs (leaving it training longer);"
      ],
      "metadata": {
        "id": "TstAmzlmVc8_"
      }
    },
    {
      "cell_type": "code",
      "source": [
        "tf.random.set_seed(42)\n",
        "\n",
        "# 1. Create a model\n",
        "model_3 = tf.keras.Sequential([\n",
        "    tf.keras.layers.Dense(1),\n",
        "    tf.keras.layers.Dense(1)\n",
        "])\n",
        "\n",
        "# 2. Compile the model\n",
        "model_3.compile(loss=tf.keras.losses.BinaryCrossentropy(),\n",
        "              optimizer=tf.keras.optimizers.Adam(), # Changed to Adam\n",
        "              metrics=[\"accuracy\"])\n",
        "\n",
        "# 3. Fit the model\n",
        "model_3.fit(X, y, epochs=10)"
      ],
      "metadata": {
        "id": "Z56ma_c3VeC_",
        "colab": {
          "base_uri": "https://localhost:8080/"
        },
        "outputId": "dfcb6e23-bd8d-4116-83a8-654433deaaf9"
      },
      "execution_count": 38,
      "outputs": [
        {
          "output_type": "stream",
          "name": "stdout",
          "text": [
            "Epoch 1/10\n",
            "32/32 [==============================] - 2s 2ms/step - loss: 4.5433 - accuracy: 0.4810\n",
            "Epoch 2/10\n",
            "32/32 [==============================] - 0s 2ms/step - loss: 4.5047 - accuracy: 0.4760\n",
            "Epoch 3/10\n",
            "32/32 [==============================] - 0s 2ms/step - loss: 4.4945 - accuracy: 0.4720\n",
            "Epoch 4/10\n",
            "32/32 [==============================] - 0s 2ms/step - loss: 4.4866 - accuracy: 0.4730\n",
            "Epoch 5/10\n",
            "32/32 [==============================] - 0s 3ms/step - loss: 4.4791 - accuracy: 0.4730\n",
            "Epoch 6/10\n",
            "32/32 [==============================] - 0s 4ms/step - loss: 4.4532 - accuracy: 0.4680\n",
            "Epoch 7/10\n",
            "32/32 [==============================] - 0s 3ms/step - loss: 4.4020 - accuracy: 0.4700\n",
            "Epoch 8/10\n",
            "32/32 [==============================] - 0s 4ms/step - loss: 4.3125 - accuracy: 0.4760\n",
            "Epoch 9/10\n",
            "32/32 [==============================] - 0s 3ms/step - loss: 4.2781 - accuracy: 0.4740\n",
            "Epoch 10/10\n",
            "32/32 [==============================] - 0s 4ms/step - loss: 4.2570 - accuracy: 0.4740\n"
          ]
        },
        {
          "output_type": "execute_result",
          "data": {
            "text/plain": [
              "<keras.callbacks.History at 0x7f27153d66d0>"
            ]
          },
          "metadata": {},
          "execution_count": 38
        }
      ]
    },
    {
      "cell_type": "code",
      "source": [
        "tf.random.set_seed(42)\n",
        "\n",
        "# 1. Create a model\n",
        "model_4 = tf.keras.Sequential([\n",
        "    tf.keras.layers.Dense(100), # add 100 dense neurons\n",
        "    tf.keras.layers.Dense(10), # add another layer with 10 neruons\n",
        "    tf.keras.layers.Dense(1),\n",
        "])\n",
        "\n",
        "# 2. Compile the model\n",
        "model_4.compile(loss=tf.keras.losses.BinaryCrossentropy(),\n",
        "              optimizer=tf.keras.optimizers.Adam(),\n",
        "              metrics=[\"accuracy\"])\n",
        "\n",
        "# 3. Fit the model\n",
        "model_4.fit(X, y, epochs=10, verbose=0)"
      ],
      "metadata": {
        "colab": {
          "base_uri": "https://localhost:8080/"
        },
        "id": "x5R8u95RRzvF",
        "outputId": "c1588da1-0d59-450d-f6f0-004539d4446e"
      },
      "execution_count": 39,
      "outputs": [
        {
          "output_type": "execute_result",
          "data": {
            "text/plain": [
              "<keras.callbacks.History at 0x7f2715285c10>"
            ]
          },
          "metadata": {},
          "execution_count": 39
        }
      ]
    },
    {
      "cell_type": "code",
      "source": [
        "model_4.evaluate(X, y)"
      ],
      "metadata": {
        "colab": {
          "base_uri": "https://localhost:8080/"
        },
        "id": "1vg1Rk7YSOHs",
        "outputId": "5aeb6638-ef38-4621-ec98-e3d4e7265775"
      },
      "execution_count": 40,
      "outputs": [
        {
          "output_type": "stream",
          "name": "stdout",
          "text": [
            "32/32 [==============================] - 0s 2ms/step - loss: 0.6936 - accuracy: 0.5040\n"
          ]
        },
        {
          "output_type": "execute_result",
          "data": {
            "text/plain": [
              "[0.6936432123184204, 0.5040000081062317]"
            ]
          },
          "metadata": {},
          "execution_count": 40
        }
      ]
    },
    {
      "cell_type": "code",
      "source": [
        "model_4.summary()"
      ],
      "metadata": {
        "colab": {
          "base_uri": "https://localhost:8080/"
        },
        "id": "MP_UfWU0SlBr",
        "outputId": "33fe4a6c-1557-4690-d753-c9e119cc9300"
      },
      "execution_count": 41,
      "outputs": [
        {
          "output_type": "stream",
          "name": "stdout",
          "text": [
            "Model: \"sequential_10\"\n",
            "_________________________________________________________________\n",
            " Layer (type)                Output Shape              Param #   \n",
            "=================================================================\n",
            " dense_19 (Dense)            (None, 100)               300       \n",
            "                                                                 \n",
            " dense_20 (Dense)            (None, 10)                1010      \n",
            "                                                                 \n",
            " dense_21 (Dense)            (None, 1)                 11        \n",
            "                                                                 \n",
            "=================================================================\n",
            "Total params: 1,321\n",
            "Trainable params: 1,321\n",
            "Non-trainable params: 0\n",
            "_________________________________________________________________\n"
          ]
        }
      ]
    },
    {
      "cell_type": "markdown",
      "source": [
        "To visualize our model's predictions, let's create a function `plot_decision_boundary()`. This function will:\n",
        "\n",
        "* Take in a trained model, features (X) and label (y);\n",
        "* Create a meshgrid of the different X values;\n",
        "* Make predictions across the meshgrid;\n",
        "* Plot the predicitons as well as a line between zones (where each unique class falls)."
      ],
      "metadata": {
        "id": "8qV59h8Wvg4c"
      }
    },
    {
      "cell_type": "code",
      "source": [
        "import numpy as np"
      ],
      "metadata": {
        "id": "R51VsUg5wfvu"
      },
      "execution_count": 43,
      "outputs": []
    },
    {
      "cell_type": "code",
      "source": [
        "x_min, x_max = X[:, 0].min() - 0.1, X[:, 0].max() + 0.1\n",
        "y_min, y_max = X[:, 1].min() - 0.1, X[:, 1].max() + 0.1\n",
        "\n",
        "x_min, x_max, y_min, y_max"
      ],
      "metadata": {
        "colab": {
          "base_uri": "https://localhost:8080/"
        },
        "id": "hDEwL8RGwQvB",
        "outputId": "f09f7d0b-ff67-4a33-bdef-fc2cbe7fea3f"
      },
      "execution_count": 42,
      "outputs": [
        {
          "output_type": "execute_result",
          "data": {
            "text/plain": [
              "(-1.1595024599098636,\n",
              " 1.1337117525463374,\n",
              " -1.1677683182718437,\n",
              " 1.1360036756154805)"
            ]
          },
          "metadata": {},
          "execution_count": 42
        }
      ]
    },
    {
      "cell_type": "code",
      "source": [
        "xx, yy = np.meshgrid(np.linspace(x_min, x_max, 100),\n",
        "                      np.linspace(y_min, y_max, 100))\n",
        "xx, yy"
      ],
      "metadata": {
        "colab": {
          "base_uri": "https://localhost:8080/"
        },
        "id": "ZJ4NkA1-wXsy",
        "outputId": "c4449e42-98a7-49f8-eafa-cfd7aa510eae"
      },
      "execution_count": 44,
      "outputs": [
        {
          "output_type": "execute_result",
          "data": {
            "text/plain": [
              "(array([[-1.15950246, -1.13633868, -1.1131749 , ...,  1.08738419,\n",
              "          1.11054797,  1.13371175],\n",
              "        [-1.15950246, -1.13633868, -1.1131749 , ...,  1.08738419,\n",
              "          1.11054797,  1.13371175],\n",
              "        [-1.15950246, -1.13633868, -1.1131749 , ...,  1.08738419,\n",
              "          1.11054797,  1.13371175],\n",
              "        ...,\n",
              "        [-1.15950246, -1.13633868, -1.1131749 , ...,  1.08738419,\n",
              "          1.11054797,  1.13371175],\n",
              "        [-1.15950246, -1.13633868, -1.1131749 , ...,  1.08738419,\n",
              "          1.11054797,  1.13371175],\n",
              "        [-1.15950246, -1.13633868, -1.1131749 , ...,  1.08738419,\n",
              "          1.11054797,  1.13371175]]),\n",
              " array([[-1.16776832, -1.16776832, -1.16776832, ..., -1.16776832,\n",
              "         -1.16776832, -1.16776832],\n",
              "        [-1.14449789, -1.14449789, -1.14449789, ..., -1.14449789,\n",
              "         -1.14449789, -1.14449789],\n",
              "        [-1.12122747, -1.12122747, -1.12122747, ..., -1.12122747,\n",
              "         -1.12122747, -1.12122747],\n",
              "        ...,\n",
              "        [ 1.08946283,  1.08946283,  1.08946283, ...,  1.08946283,\n",
              "          1.08946283,  1.08946283],\n",
              "        [ 1.11273325,  1.11273325,  1.11273325, ...,  1.11273325,\n",
              "          1.11273325,  1.11273325],\n",
              "        [ 1.13600368,  1.13600368,  1.13600368, ...,  1.13600368,\n",
              "          1.13600368,  1.13600368]]))"
            ]
          },
          "metadata": {},
          "execution_count": 44
        }
      ]
    },
    {
      "cell_type": "code",
      "source": [
        "def plot_decision_boundary(model, X, y):\n",
        "  \"\"\"\n",
        "  Plots the decision boundary created by a model predicting on X.\n",
        "  This function was inspired by two resources:\n",
        "    1. https://cs231n.github.io/neural-networks-case-study/\n",
        "    2. madewithml\n",
        "  \"\"\"\n",
        "  # Define the axis boundaries of the plot and create a meshgrid\n",
        "  x_min, x_max = X[:, 0].min() - 0.1, X[:, 0].max() + 0.1\n",
        "  y_min, y_max = X[:, 1].min() - 0.1, X[:, 1].max() + 0.1\n",
        "  xx, yy = np.meshgrid(np.linspace(x_min, x_max, 100),\n",
        "                       np.linspace(y_min, y_max, 100))\n",
        "  # Create X value (we're going to make predictions on these)\n",
        "  x_in = np.c_[xx.ravel(), yy.ravel()] # Stack 2D arrays together\n",
        "\n",
        "  # Make predictions\n",
        "  y_pred = model.predict(x_in)\n",
        "\n",
        "  # Check multi-class\n",
        "  if len(y_pred[0]) > 1:\n",
        "    print(\"doing multiclass classification\")\n",
        "    # If so, we have to reshape our prediction to get them ready for plotting\n",
        "    y_pred = np.argmax(y_pred, axis=1).reshape(xx.shape)\n",
        "  else:\n",
        "    print(\"doing binary classification\")\n",
        "    y_pred = np.round(y_pred).reshape(xx.shape)\n",
        "\n",
        "  # Plot the decision boundary\n",
        "  plt.contourf(xx, yy, y_pred, cmap=plt.cm.RdYlBu, alpha=0.7)\n",
        "  plt.scatter(X[:, 0], X[:, 1], c=y, s=40, cmap=plt.cm.RdYlBu)\n",
        "  plt.xlim(xx.min(), xx.max())\n",
        "  plt.ylim(yy.min(), yy.max())"
      ],
      "metadata": {
        "id": "HvDJznWQS578"
      },
      "execution_count": 47,
      "outputs": []
    },
    {
      "cell_type": "code",
      "source": [
        "# Check out the predictions our model is making\n",
        "plot_decision_boundary(model=model_4,\n",
        "                       X=X,\n",
        "                       y=y)"
      ],
      "metadata": {
        "colab": {
          "base_uri": "https://localhost:8080/",
          "height": 469
        },
        "id": "SD5a-HcAxrE8",
        "outputId": "a95aaba5-cffa-4b68-84a2-5f93f5fcb78c"
      },
      "execution_count": 52,
      "outputs": [
        {
          "output_type": "stream",
          "name": "stdout",
          "text": [
            "313/313 [==============================] - 1s 3ms/step\n",
            "doing binary classification\n"
          ]
        },
        {
          "output_type": "display_data",
          "data": {
            "text/plain": [
              "<Figure size 640x480 with 1 Axes>"
            ],
            "image/png": "[encoded data removed]"
          },
          "metadata": {}
        }
      ]
    }
  ]
}