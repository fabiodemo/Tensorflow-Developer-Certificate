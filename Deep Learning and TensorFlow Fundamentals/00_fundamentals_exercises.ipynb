{
  "nbformat": 4,
  "nbformat_minor": 0,
  "metadata": {
    "colab": {
      "provenance": [],
      "authorship_tag": "ABX9TyPO3WF+KQzIQ8X+8pZYwLJJ",
      "include_colab_link": true
    },
    "kernelspec": {
      "name": "python3",
      "display_name": "Python 3"
    },
    "language_info": {
      "name": "python"
    }
  },
  "cells": [
    {
      "cell_type": "markdown",
      "metadata": {
        "id": "view-in-github",
        "colab_type": "text"
      },
      "source": [
        "<a href=\"https://colab.research.google.com/github/fabiodemo/Tensorflow-Developer-Certificate/blob/main/Deep%20Learning%20and%20TensorFlow%20Fundamentals/00_fundamentals_exercises.ipynb\" target=\"_parent\"><img src=\"https://colab.research.google.com/assets/colab-badge.svg\" alt=\"Open In Colab\"/></a>"
      ]
    },
    {
      "cell_type": "markdown",
      "source": [
        "### 🛠 00. TensorFlow Fundamentals Exercises\n",
        "\n",
        "1. Create a vector, scalar, matrix and tensor with values of your choosing using `tf.constant()`.\n",
        "2. Find the shape, rank and size of the tensors you created in 1.\n",
        "3. Create two tensors containing random values between 0 and 1 with shape `[5, 300]`.\n",
        "4. Multiply the two tensors you created in 3 using matrix multiplication.\n",
        "5. Multiply the two tensors you created in 3 using dot product.\n",
        "6. Create a tensor with random values between 0 and 1 with shape `[224, 224, 3]`.\n",
        "7. Find the min and max values of the tensor you created in 6 along the first axis.\n",
        "8. Created a tensor with random values of shape `[1, 224, 224, 3]` then squeeze it to change the shape to `[224, 224, 3]`.\n",
        "9. Create a tensor with shape `[10]` using your own choice of values, then find the index which has the maximum value.\n",
        "10. One-hot encode the tensor you created in 9."
      ],
      "metadata": {
        "id": "bxZuVTY3gz9_"
      }
    },
    {
      "cell_type": "code",
      "source": [],
      "metadata": {
        "id": "ihASHOudg-Ds"
      },
      "execution_count": null,
      "outputs": []
    },
    {
      "cell_type": "markdown",
      "source": [
        "### 📖 00. TensorFlow Fundamentals Extra-curriculum \n",
        "\n",
        "* Read through the [list of TensorFlow Python APIs](https://www.tensorflow.org/api_docs/python/), pick one we haven't gone through in this notebook, reverse engineer it (write out the documentation code for yourself) and figure out what it does.\n",
        "* Try to create a series of tensor functions to calculate your most recent grocery bill (it's okay if you don't use the names of the items, just the price in numerical form).\n",
        "  * How would you calculate your grocery bill for the month and for the year using tensors?\n",
        "* Go through the [TensorFlow 2.x quick start for beginners](https://www.tensorflow.org/tutorials/quickstart/beginner) tutorial (be sure to type out all of the code yourself, even if you don't understand it).\n",
        "  * Are there any functions we used in here that match what's used in there? Which are the same? Which haven't you seen before?\n",
        "* Watch the video [\"What's a tensor?\"](https://www.youtube.com/watch?v=f5liqUk0ZTw) - a great visual introduction to many of the concepts we've covered in this notebook.\n"
      ],
      "metadata": {
        "id": "bwzJbx8Rg9BD"
      }
    },
    {
      "cell_type": "code",
      "source": [],
      "metadata": {
        "id": "z4inEY99g9ft"
      },
      "execution_count": null,
      "outputs": []
    }
  ]
}