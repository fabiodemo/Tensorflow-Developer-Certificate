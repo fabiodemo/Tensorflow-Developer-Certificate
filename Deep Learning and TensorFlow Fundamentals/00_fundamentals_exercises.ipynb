{
  "nbformat": 4,
  "nbformat_minor": 0,
  "metadata": {
    "colab": {
      "provenance": [],
      "authorship_tag": "ABX9TyM6geLlrq8CH69uqmR9vidN",
      "include_colab_link": true
    },
    "kernelspec": {
      "name": "python3",
      "display_name": "Python 3"
    },
    "language_info": {
      "name": "python"
    }
  },
  "cells": [
    {
      "cell_type": "markdown",
      "metadata": {
        "id": "view-in-github",
        "colab_type": "text"
      },
      "source": [
        "<a href=\"https://colab.research.google.com/github/fabiodemo/Tensorflow-Developer-Certificate/blob/main/Deep%20Learning%20and%20TensorFlow%20Fundamentals/00_fundamentals_exercises.ipynb\" target=\"_parent\"><img src=\"https://colab.research.google.com/assets/colab-badge.svg\" alt=\"Open In Colab\"/></a>"
      ]
    },
    {
      "cell_type": "markdown",
      "source": [
        "### 🛠 00. TensorFlow Fundamentals Exercises\n",
        "\n",
        "1. Create a vector, scalar, matrix and tensor with values of your choosing using `tf.constant()`.\n",
        "2. Find the shape, rank and size of the tensors you created in 1.\n",
        "3. Create two tensors containing random values between 0 and 1 with shape `[5, 300]`.\n",
        "4. Multiply the two tensors you created in 3 using matrix multiplication.\n",
        "5. Multiply the two tensors you created in 3 using dot product.\n",
        "6. Create a tensor with random values between 0 and 1 with shape `[224, 224, 3]`.\n",
        "7. Find the min and max values of the tensor you created in 6 along the first axis.\n",
        "8. Created a tensor with random values of shape `[1, 224, 224, 3]` then squeeze it to change the shape to `[224, 224, 3]`.\n",
        "9. Create a tensor with shape `[10]` using your own choice of values, then find the index which has the maximum value.\n",
        "10. One-hot encode the tensor you created in 9."
      ],
      "metadata": {
        "id": "bxZuVTY3gz9_"
      }
    },
    {
      "cell_type": "code",
      "source": [
        "import tensorflow as tf"
      ],
      "metadata": {
        "id": "w4zjc6ri3S-M"
      },
      "execution_count": 2,
      "outputs": []
    },
    {
      "cell_type": "code",
      "source": [
        "# 1\n",
        "A = tf.constant([10, 20, 30])\n",
        "B = tf.constant([[10, 20],\n",
        "                 [30, 40]])\n",
        "C = tf.constant([[[12, 40, 20],\n",
        "                  [16, 45, 20],\n",
        "                  [40, 60, 89]]])\n",
        "A, B, C"
      ],
      "metadata": {
        "id": "ihASHOudg-Ds",
        "outputId": "d22a1ea4-fedb-4c83-fde7-9a35ad7d4805",
        "colab": {
          "base_uri": "https://localhost:8080/"
        }
      },
      "execution_count": 12,
      "outputs": [
        {
          "output_type": "execute_result",
          "data": {
            "text/plain": [
              "(<tf.Tensor: shape=(3,), dtype=int32, numpy=array([10, 20, 30], dtype=int32)>,\n",
              " TensorShape([3]),\n",
              " <tf.Tensor: shape=(), dtype=int32, numpy=3>,\n",
              " <tf.Tensor: shape=(2, 2), dtype=int32, numpy=\n",
              " array([[10, 20],\n",
              "        [30, 40]], dtype=int32)>,\n",
              " <tf.Tensor: shape=(1, 3, 3), dtype=int32, numpy=\n",
              " array([[[12, 40, 20],\n",
              "         [16, 45, 20],\n",
              "         [40, 60, 89]]], dtype=int32)>)"
            ]
          },
          "metadata": {},
          "execution_count": 12
        }
      ]
    },
    {
      "cell_type": "code",
      "source": [
        "# 2\n",
        "print('A dimension: ', A.ndim)\n",
        "print('A shape: ', A.shape)\n",
        "print('A size: ', tf.size(A))\n",
        "print('B dimension: ', B.ndim)\n",
        "print('B shape: ', B.shape)\n",
        "print('B size: ', tf.size(B))\n",
        "print('C dimension: ', C.ndim)\n",
        "print('C shape: ', C.shape)\n",
        "print('C size: ', tf.size(C))"
      ],
      "metadata": {
        "id": "CHFLrmrV2-dB",
        "outputId": "c4d7f124-4cbc-40eb-8e94-7da0ed3793b7",
        "colab": {
          "base_uri": "https://localhost:8080/"
        }
      },
      "execution_count": 15,
      "outputs": [
        {
          "output_type": "stream",
          "name": "stdout",
          "text": [
            "A dimension:  1\n",
            "A shape:  (3,)\n",
            "A size:  tf.Tensor(3, shape=(), dtype=int32)\n",
            "B dimension:  2\n",
            "B shape:  (2, 2)\n",
            "B size:  tf.Tensor(4, shape=(), dtype=int32)\n",
            "C dimension:  3\n",
            "C shape:  (1, 3, 3)\n",
            "C size:  tf.Tensor(9, shape=(), dtype=int32)\n"
          ]
        }
      ]
    },
    {
      "cell_type": "code",
      "source": [
        "# 3\n",
        "import numpy as np\n",
        "D = tf.constant(np.random.randint(3, 500, size=1500), shape=(5,300))\n",
        "E = tf.constant(np.random.randint(3, 500, size=1500), shape=(5,300))\n",
        "D, E"
      ],
      "metadata": {
        "id": "lCIDQbKJ2_BY",
        "outputId": "cd93bed2-5b75-4be9-8beb-a774ba352eee",
        "colab": {
          "base_uri": "https://localhost:8080/"
        }
      },
      "execution_count": 19,
      "outputs": [
        {
          "output_type": "execute_result",
          "data": {
            "text/plain": [
              "(<tf.Tensor: shape=(5, 300), dtype=int64, numpy=\n",
              " array([[109,  86, 382, ..., 310,  47, 198],\n",
              "        [163, 238,  60, ..., 138, 399, 431],\n",
              "        [306,   9, 229, ..., 223, 113, 496],\n",
              "        [246, 199, 103, ..., 459, 420, 210],\n",
              "        [414, 497, 399, ..., 358,  42, 288]])>,\n",
              " <tf.Tensor: shape=(5, 300), dtype=int64, numpy=\n",
              " array([[ 33, 363, 356, ..., 101, 438, 374],\n",
              "        [463, 411, 123, ..., 418, 220, 180],\n",
              "        [450, 263, 320, ..., 300,  21, 427],\n",
              "        [174, 135,  14, ..., 440, 389,   9],\n",
              "        [412, 202,  69, ..., 447,  73, 193]])>)"
            ]
          },
          "metadata": {},
          "execution_count": 19
        }
      ]
    },
    {
      "cell_type": "code",
      "source": [
        "# 4\n",
        "tf.reshape(D, shape=(300,5)) @ E"
      ],
      "metadata": {
        "id": "FXijvrrb2-_D",
        "outputId": "770052aa-f26c-43b2-8db7-686521ffd7e4",
        "colab": {
          "base_uri": "https://localhost:8080/"
        }
      },
      "execution_count": 24,
      "outputs": [
        {
          "output_type": "execute_result",
          "data": {
            "text/plain": [
              "<tf.Tensor: shape=(300, 300), dtype=int64, numpy=\n",
              "array([[296027, 231647, 180052, ..., 333535, 209330, 232806],\n",
              "       [499880, 367991, 215205, ..., 502539, 224097, 320623],\n",
              "       [389002, 298863, 142773, ..., 420643, 209768, 221546],\n",
              "       ...,\n",
              "       [456791, 354026, 247068, ..., 471723, 248142, 343852],\n",
              "       [525200, 435664, 253345, ..., 580121, 336800, 363440],\n",
              "       [512025, 469487, 311106, ..., 481567, 293250, 417278]])>"
            ]
          },
          "metadata": {},
          "execution_count": 24
        }
      ]
    },
    {
      "cell_type": "code",
      "source": [
        "# 5\n",
        "tf.tensordot(tf.transpose(D), E, axes=1)"
      ],
      "metadata": {
        "id": "tdnojW-l2-8W",
        "outputId": "a8c1a5f6-a6ef-421c-b119-1fb402dea4e8",
        "colab": {
          "base_uri": "https://localhost:8080/"
        }
      },
      "execution_count": 23,
      "outputs": [
        {
          "output_type": "execute_result",
          "data": {
            "text/plain": [
              "<tf.Tensor: shape=(300, 300), dtype=int64, numpy=\n",
              "array([[430138, 303876, 188783, ..., 464241, 215944, 282884],\n",
              "       [356472, 258662,  99849, ..., 420589, 203909, 176559],\n",
              "       [325746, 318056, 245625, ..., 356035, 254519, 329385],\n",
              "       ...,\n",
              "       [401836, 362178, 229822, ..., 517880, 375508, 309226],\n",
              "       [327522, 275953, 110747, ..., 409003, 277185, 149535],\n",
              "       [584483, 465989, 305033, ..., 570092, 294674, 420898]])>"
            ]
          },
          "metadata": {},
          "execution_count": 23
        }
      ]
    },
    {
      "cell_type": "code",
      "source": [
        "224*224*3"
      ],
      "metadata": {
        "id": "ERXZcSux6hyS",
        "outputId": "d6309696-e4e0-4982-ab9f-8485b1e10709",
        "colab": {
          "base_uri": "https://localhost:8080/"
        }
      },
      "execution_count": 28,
      "outputs": [
        {
          "output_type": "execute_result",
          "data": {
            "text/plain": [
              "150528"
            ]
          },
          "metadata": {},
          "execution_count": 28
        }
      ]
    },
    {
      "cell_type": "code",
      "source": [
        "# 6 224, 224, 3\n",
        "# D = tf.constant(np.random.randint(3, 500, size=1500), shape=(5,300))\n",
        "F = tf.constant(np.random.randint(0, 1, size=150528), shape=(224, 224, 3))\n",
        "F"
      ],
      "metadata": {
        "id": "sFpiJQiF2-zD",
        "outputId": "9dc9f4fb-93dc-4592-a077-3ca45295e655",
        "colab": {
          "base_uri": "https://localhost:8080/"
        }
      },
      "execution_count": 34,
      "outputs": [
        {
          "output_type": "execute_result",
          "data": {
            "text/plain": [
              "<tf.Tensor: shape=(224, 224, 3), dtype=int64, numpy=\n",
              "array([[[0, 0, 0],\n",
              "        [0, 0, 0],\n",
              "        [0, 0, 0],\n",
              "        ...,\n",
              "        [0, 0, 0],\n",
              "        [0, 0, 0],\n",
              "        [0, 0, 0]],\n",
              "\n",
              "       [[0, 0, 0],\n",
              "        [0, 0, 0],\n",
              "        [0, 0, 0],\n",
              "        ...,\n",
              "        [0, 0, 0],\n",
              "        [0, 0, 0],\n",
              "        [0, 0, 0]],\n",
              "\n",
              "       [[0, 0, 0],\n",
              "        [0, 0, 0],\n",
              "        [0, 0, 0],\n",
              "        ...,\n",
              "        [0, 0, 0],\n",
              "        [0, 0, 0],\n",
              "        [0, 0, 0]],\n",
              "\n",
              "       ...,\n",
              "\n",
              "       [[0, 0, 0],\n",
              "        [0, 0, 0],\n",
              "        [0, 0, 0],\n",
              "        ...,\n",
              "        [0, 0, 0],\n",
              "        [0, 0, 0],\n",
              "        [0, 0, 0]],\n",
              "\n",
              "       [[0, 0, 0],\n",
              "        [0, 0, 0],\n",
              "        [0, 0, 0],\n",
              "        ...,\n",
              "        [0, 0, 0],\n",
              "        [0, 0, 0],\n",
              "        [0, 0, 0]],\n",
              "\n",
              "       [[0, 0, 0],\n",
              "        [0, 0, 0],\n",
              "        [0, 0, 0],\n",
              "        ...,\n",
              "        [0, 0, 0],\n",
              "        [0, 0, 0],\n",
              "        [0, 0, 0]]])>"
            ]
          },
          "metadata": {},
          "execution_count": 34
        }
      ]
    },
    {
      "cell_type": "code",
      "source": [
        "# 7\n",
        "tf.reduce_max(F, axis=1)"
      ],
      "metadata": {
        "id": "VNyJ7OHu2-rS",
        "outputId": "7ba8f92a-eecb-4061-991c-79ad48f64266",
        "colab": {
          "base_uri": "https://localhost:8080/"
        }
      },
      "execution_count": 31,
      "outputs": [
        {
          "output_type": "execute_result",
          "data": {
            "text/plain": [
              "<tf.Tensor: shape=(224, 3), dtype=int64, numpy=\n",
              "array([[0, 0, 0],\n",
              "       [0, 0, 0],\n",
              "       [0, 0, 0],\n",
              "       [0, 0, 0],\n",
              "       [0, 0, 0],\n",
              "       [0, 0, 0],\n",
              "       [0, 0, 0],\n",
              "       [0, 0, 0],\n",
              "       [0, 0, 0],\n",
              "       [0, 0, 0],\n",
              "       [0, 0, 0],\n",
              "       [0, 0, 0],\n",
              "       [0, 0, 0],\n",
              "       [0, 0, 0],\n",
              "       [0, 0, 0],\n",
              "       [0, 0, 0],\n",
              "       [0, 0, 0],\n",
              "       [0, 0, 0],\n",
              "       [0, 0, 0],\n",
              "       [0, 0, 0],\n",
              "       [0, 0, 0],\n",
              "       [0, 0, 0],\n",
              "       [0, 0, 0],\n",
              "       [0, 0, 0],\n",
              "       [0, 0, 0],\n",
              "       [0, 0, 0],\n",
              "       [0, 0, 0],\n",
              "       [0, 0, 0],\n",
              "       [0, 0, 0],\n",
              "       [0, 0, 0],\n",
              "       [0, 0, 0],\n",
              "       [0, 0, 0],\n",
              "       [0, 0, 0],\n",
              "       [0, 0, 0],\n",
              "       [0, 0, 0],\n",
              "       [0, 0, 0],\n",
              "       [0, 0, 0],\n",
              "       [0, 0, 0],\n",
              "       [0, 0, 0],\n",
              "       [0, 0, 0],\n",
              "       [0, 0, 0],\n",
              "       [0, 0, 0],\n",
              "       [0, 0, 0],\n",
              "       [0, 0, 0],\n",
              "       [0, 0, 0],\n",
              "       [0, 0, 0],\n",
              "       [0, 0, 0],\n",
              "       [0, 0, 0],\n",
              "       [0, 0, 0],\n",
              "       [0, 0, 0],\n",
              "       [0, 0, 0],\n",
              "       [0, 0, 0],\n",
              "       [0, 0, 0],\n",
              "       [0, 0, 0],\n",
              "       [0, 0, 0],\n",
              "       [0, 0, 0],\n",
              "       [0, 0, 0],\n",
              "       [0, 0, 0],\n",
              "       [0, 0, 0],\n",
              "       [0, 0, 0],\n",
              "       [0, 0, 0],\n",
              "       [0, 0, 0],\n",
              "       [0, 0, 0],\n",
              "       [0, 0, 0],\n",
              "       [0, 0, 0],\n",
              "       [0, 0, 0],\n",
              "       [0, 0, 0],\n",
              "       [0, 0, 0],\n",
              "       [0, 0, 0],\n",
              "       [0, 0, 0],\n",
              "       [0, 0, 0],\n",
              "       [0, 0, 0],\n",
              "       [0, 0, 0],\n",
              "       [0, 0, 0],\n",
              "       [0, 0, 0],\n",
              "       [0, 0, 0],\n",
              "       [0, 0, 0],\n",
              "       [0, 0, 0],\n",
              "       [0, 0, 0],\n",
              "       [0, 0, 0],\n",
              "       [0, 0, 0],\n",
              "       [0, 0, 0],\n",
              "       [0, 0, 0],\n",
              "       [0, 0, 0],\n",
              "       [0, 0, 0],\n",
              "       [0, 0, 0],\n",
              "       [0, 0, 0],\n",
              "       [0, 0, 0],\n",
              "       [0, 0, 0],\n",
              "       [0, 0, 0],\n",
              "       [0, 0, 0],\n",
              "       [0, 0, 0],\n",
              "       [0, 0, 0],\n",
              "       [0, 0, 0],\n",
              "       [0, 0, 0],\n",
              "       [0, 0, 0],\n",
              "       [0, 0, 0],\n",
              "       [0, 0, 0],\n",
              "       [0, 0, 0],\n",
              "       [0, 0, 0],\n",
              "       [0, 0, 0],\n",
              "       [0, 0, 0],\n",
              "       [0, 0, 0],\n",
              "       [0, 0, 0],\n",
              "       [0, 0, 0],\n",
              "       [0, 0, 0],\n",
              "       [0, 0, 0],\n",
              "       [0, 0, 0],\n",
              "       [0, 0, 0],\n",
              "       [0, 0, 0],\n",
              "       [0, 0, 0],\n",
              "       [0, 0, 0],\n",
              "       [0, 0, 0],\n",
              "       [0, 0, 0],\n",
              "       [0, 0, 0],\n",
              "       [0, 0, 0],\n",
              "       [0, 0, 0],\n",
              "       [0, 0, 0],\n",
              "       [0, 0, 0],\n",
              "       [0, 0, 0],\n",
              "       [0, 0, 0],\n",
              "       [0, 0, 0],\n",
              "       [0, 0, 0],\n",
              "       [0, 0, 0],\n",
              "       [0, 0, 0],\n",
              "       [0, 0, 0],\n",
              "       [0, 0, 0],\n",
              "       [0, 0, 0],\n",
              "       [0, 0, 0],\n",
              "       [0, 0, 0],\n",
              "       [0, 0, 0],\n",
              "       [0, 0, 0],\n",
              "       [0, 0, 0],\n",
              "       [0, 0, 0],\n",
              "       [0, 0, 0],\n",
              "       [0, 0, 0],\n",
              "       [0, 0, 0],\n",
              "       [0, 0, 0],\n",
              "       [0, 0, 0],\n",
              "       [0, 0, 0],\n",
              "       [0, 0, 0],\n",
              "       [0, 0, 0],\n",
              "       [0, 0, 0],\n",
              "       [0, 0, 0],\n",
              "       [0, 0, 0],\n",
              "       [0, 0, 0],\n",
              "       [0, 0, 0],\n",
              "       [0, 0, 0],\n",
              "       [0, 0, 0],\n",
              "       [0, 0, 0],\n",
              "       [0, 0, 0],\n",
              "       [0, 0, 0],\n",
              "       [0, 0, 0],\n",
              "       [0, 0, 0],\n",
              "       [0, 0, 0],\n",
              "       [0, 0, 0],\n",
              "       [0, 0, 0],\n",
              "       [0, 0, 0],\n",
              "       [0, 0, 0],\n",
              "       [0, 0, 0],\n",
              "       [0, 0, 0],\n",
              "       [0, 0, 0],\n",
              "       [0, 0, 0],\n",
              "       [0, 0, 0],\n",
              "       [0, 0, 0],\n",
              "       [0, 0, 0],\n",
              "       [0, 0, 0],\n",
              "       [0, 0, 0],\n",
              "       [0, 0, 0],\n",
              "       [0, 0, 0],\n",
              "       [0, 0, 0],\n",
              "       [0, 0, 0],\n",
              "       [0, 0, 0],\n",
              "       [0, 0, 0],\n",
              "       [0, 0, 0],\n",
              "       [0, 0, 0],\n",
              "       [0, 0, 0],\n",
              "       [0, 0, 0],\n",
              "       [0, 0, 0],\n",
              "       [0, 0, 0],\n",
              "       [0, 0, 0],\n",
              "       [0, 0, 0],\n",
              "       [0, 0, 0],\n",
              "       [0, 0, 0],\n",
              "       [0, 0, 0],\n",
              "       [0, 0, 0],\n",
              "       [0, 0, 0],\n",
              "       [0, 0, 0],\n",
              "       [0, 0, 0],\n",
              "       [0, 0, 0],\n",
              "       [0, 0, 0],\n",
              "       [0, 0, 0],\n",
              "       [0, 0, 0],\n",
              "       [0, 0, 0],\n",
              "       [0, 0, 0],\n",
              "       [0, 0, 0],\n",
              "       [0, 0, 0],\n",
              "       [0, 0, 0],\n",
              "       [0, 0, 0],\n",
              "       [0, 0, 0],\n",
              "       [0, 0, 0],\n",
              "       [0, 0, 0],\n",
              "       [0, 0, 0],\n",
              "       [0, 0, 0],\n",
              "       [0, 0, 0],\n",
              "       [0, 0, 0],\n",
              "       [0, 0, 0],\n",
              "       [0, 0, 0],\n",
              "       [0, 0, 0],\n",
              "       [0, 0, 0],\n",
              "       [0, 0, 0],\n",
              "       [0, 0, 0],\n",
              "       [0, 0, 0],\n",
              "       [0, 0, 0],\n",
              "       [0, 0, 0],\n",
              "       [0, 0, 0],\n",
              "       [0, 0, 0],\n",
              "       [0, 0, 0],\n",
              "       [0, 0, 0],\n",
              "       [0, 0, 0],\n",
              "       [0, 0, 0],\n",
              "       [0, 0, 0],\n",
              "       [0, 0, 0],\n",
              "       [0, 0, 0]])>"
            ]
          },
          "metadata": {},
          "execution_count": 31
        }
      ]
    },
    {
      "cell_type": "code",
      "source": [
        "# 8 \n",
        "G_squeezed = tf.squeeze(G)\n",
        "G_squeezed\n"
      ],
      "metadata": {
        "id": "-u-mUjhV3C0J",
        "outputId": "98cb7869-50f6-492d-dec5-46e53ef7df96",
        "colab": {
          "base_uri": "https://localhost:8080/"
        }
      },
      "execution_count": 45,
      "outputs": [
        {
          "output_type": "execute_result",
          "data": {
            "text/plain": [
              "<tf.Tensor: shape=(224, 224, 3), dtype=float32, numpy=\n",
              "array([[[0.05521214, 0.5694376 , 0.23994994],\n",
              "        [0.11486828, 0.21533477, 0.22755659],\n",
              "        [0.730096  , 0.48880017, 0.70787156],\n",
              "        ...,\n",
              "        [0.7717689 , 0.05121017, 0.8336891 ],\n",
              "        [0.11924863, 0.30839086, 0.7639426 ],\n",
              "        [0.67709124, 0.3571179 , 0.2749381 ]],\n",
              "\n",
              "       [[0.2884332 , 0.7315296 , 0.18192625],\n",
              "        [0.5731095 , 0.68790555, 0.8454919 ],\n",
              "        [0.80096817, 0.02044475, 0.5883293 ],\n",
              "        ...,\n",
              "        [0.6277685 , 0.35496294, 0.12868834],\n",
              "        [0.627277  , 0.9957205 , 0.8948965 ],\n",
              "        [0.7149048 , 0.47082448, 0.8201505 ]],\n",
              "\n",
              "       [[0.9022447 , 0.85468256, 0.09715247],\n",
              "        [0.9386722 , 0.05493188, 0.7987038 ],\n",
              "        [0.90322554, 0.87712336, 0.9150202 ],\n",
              "        ...,\n",
              "        [0.3253988 , 0.22240663, 0.56394756],\n",
              "        [0.47095156, 0.472937  , 0.7251054 ],\n",
              "        [0.41310108, 0.1502018 , 0.5899668 ]],\n",
              "\n",
              "       ...,\n",
              "\n",
              "       [[0.81925154, 0.62741673, 0.2908435 ],\n",
              "        [0.05518436, 0.18627572, 0.1931808 ],\n",
              "        [0.78568625, 0.39756346, 0.5598141 ],\n",
              "        ...,\n",
              "        [0.58983314, 0.5887041 , 0.45900965],\n",
              "        [0.4180975 , 0.02141786, 0.09833252],\n",
              "        [0.7176038 , 0.2495023 , 0.24319685]],\n",
              "\n",
              "       [[0.15542829, 0.32070243, 0.41482306],\n",
              "        [0.2983024 , 0.08285868, 0.68942297],\n",
              "        [0.41128862, 0.66249967, 0.6949583 ],\n",
              "        ...,\n",
              "        [0.13533962, 0.91529953, 0.4208256 ],\n",
              "        [0.56633556, 0.67539287, 0.8385986 ],\n",
              "        [0.43840027, 0.60802376, 0.51922596]],\n",
              "\n",
              "       [[0.4046539 , 0.40609837, 0.06679189],\n",
              "        [0.13700497, 0.18308342, 0.24799359],\n",
              "        [0.04142594, 0.85291255, 0.21082759],\n",
              "        ...,\n",
              "        [0.0940944 , 0.8791008 , 0.17408347],\n",
              "        [0.2734071 , 0.5182296 , 0.33385968],\n",
              "        [0.9884689 , 0.3992375 , 0.35461605]]], dtype=float32)>"
            ]
          },
          "metadata": {},
          "execution_count": 45
        }
      ]
    },
    {
      "cell_type": "code",
      "source": [
        "# 9\n",
        "H = tf.Variable([0.06399345, 0.16117096, 0.2023902 , 0.9479101 , 0.51758206,\n",
        "       0.8455838 , 0.7279105 , 0.7041055 , 0.27062988, 0.6860987 ])\n",
        "H.shape"
      ],
      "metadata": {
        "id": "QEMyoHQI3Cvj",
        "outputId": "3d74e12d-e15a-4470-d78e-40f65e5c1f2f",
        "colab": {
          "base_uri": "https://localhost:8080/"
        }
      },
      "execution_count": 55,
      "outputs": [
        {
          "output_type": "execute_result",
          "data": {
            "text/plain": [
              "TensorShape([10])"
            ]
          },
          "metadata": {},
          "execution_count": 55
        }
      ]
    },
    {
      "cell_type": "code",
      "source": [
        "# 10\n",
        "tf.one_hot(tf.cast(H, dtype=tf.int32), depth=10)"
      ],
      "metadata": {
        "id": "TH3IdOIA3CgW",
        "outputId": "1be500f6-0357-4b76-dcd0-34e1b4ad3707",
        "colab": {
          "base_uri": "https://localhost:8080/"
        }
      },
      "execution_count": 64,
      "outputs": [
        {
          "output_type": "execute_result",
          "data": {
            "text/plain": [
              "<tf.Tensor: shape=(10, 10), dtype=float32, numpy=\n",
              "array([[1., 0., 0., 0., 0., 0., 0., 0., 0., 0.],\n",
              "       [1., 0., 0., 0., 0., 0., 0., 0., 0., 0.],\n",
              "       [1., 0., 0., 0., 0., 0., 0., 0., 0., 0.],\n",
              "       [1., 0., 0., 0., 0., 0., 0., 0., 0., 0.],\n",
              "       [1., 0., 0., 0., 0., 0., 0., 0., 0., 0.],\n",
              "       [1., 0., 0., 0., 0., 0., 0., 0., 0., 0.],\n",
              "       [1., 0., 0., 0., 0., 0., 0., 0., 0., 0.],\n",
              "       [1., 0., 0., 0., 0., 0., 0., 0., 0., 0.],\n",
              "       [1., 0., 0., 0., 0., 0., 0., 0., 0., 0.],\n",
              "       [1., 0., 0., 0., 0., 0., 0., 0., 0., 0.]], dtype=float32)>"
            ]
          },
          "metadata": {},
          "execution_count": 64
        }
      ]
    },
    {
      "cell_type": "markdown",
      "source": [
        "### 📖 00. TensorFlow Fundamentals Extra-curriculum \n",
        "\n",
        "* Read through the [list of TensorFlow Python APIs](https://www.tensorflow.org/api_docs/python/), pick one we haven't gone through in this notebook, reverse engineer it (write out the documentation code for yourself) and figure out what it does.\n",
        "* Try to create a series of tensor functions to calculate your most recent grocery bill (it's okay if you don't use the names of the items, just the price in numerical form).\n",
        "  * How would you calculate your grocery bill for the month and for the year using tensors?\n",
        "* Go through the [TensorFlow 2.x quick start for beginners](https://www.tensorflow.org/tutorials/quickstart/beginner) tutorial (be sure to type out all of the code yourself, even if you don't understand it).\n",
        "  * Are there any functions we used in here that match what's used in there? Which are the same? Which haven't you seen before?\n",
        "* Watch the video [\"What's a tensor?\"](https://www.youtube.com/watch?v=f5liqUk0ZTw) - a great visual introduction to many of the concepts we've covered in this notebook.\n"
      ],
      "metadata": {
        "id": "bwzJbx8Rg9BD"
      }
    },
    {
      "cell_type": "code",
      "source": [],
      "metadata": {
        "id": "z4inEY99g9ft"
      },
      "execution_count": null,
      "outputs": []
    }
  ]
}